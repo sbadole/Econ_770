{
 "cells": [
  {
   "cell_type": "markdown",
   "metadata": {},
   "source": [
    "# Sachin Badole"
   ]
  },
  {
   "cell_type": "markdown",
   "metadata": {},
   "source": [
    "* ~~Econ706: Econometrics III~~,\n",
    "* Econ770: Data Analytics for Economist, and\n",
    "* ### Econ725: Machine Learning for Economist"
   ]
  },
  {
   "cell_type": "code",
   "execution_count": 11,
   "metadata": {},
   "outputs": [
    {
     "name": "stdout",
     "output_type": "stream",
     "text": [
      "a string\n"
     ]
    }
   ],
   "source": [
    "s = 'a string'\n",
    "print(s)"
   ]
  },
  {
   "cell_type": "markdown",
   "metadata": {},
   "source": [
    "Insert a markdown cell below the code cell. Use the 'backtick fences' method to write a block of code with the two statements `s='a string'` and `print(s)` within it."
   ]
  },
  {
   "cell_type": "markdown",
   "metadata": {},
   "source": [
    "# text"
   ]
  },
  {
   "cell_type": "markdown",
   "metadata": {},
   "source": [
    "## Heading"
   ]
  },
  {
   "cell_type": "markdown",
   "metadata": {},
   "source": [
    "**Bold**"
   ]
  },
  {
   "cell_type": "markdown",
   "metadata": {},
   "source": [
    "*Italics*"
   ]
  },
  {
   "cell_type": "markdown",
   "metadata": {},
   "source": [
    "~~strikethrough~~"
   ]
  },
  {
   "cell_type": "markdown",
   "metadata": {},
   "source": []
  },
  {
   "cell_type": "markdown",
   "metadata": {},
   "source": [
    "Lists\n",
    "An unordered list uses asterisks. Try\n",
    "\n",
    "* Bacon\n",
    "* Lettuce\n",
    "* Tomato"
   ]
  },
  {
   "cell_type": "markdown",
   "metadata": {},
   "source": [
    "Then try an ordered list\n",
    "1. Wisconsin\n",
    "    1. Madison\n",
    "    2. Milwaukee\n",
    "2. Minnesota\n",
    "    1. Minneapolis\n",
    "    2. Ely\n",
    "3. Michigan\n",
    "    1. Detroit\n",
    "    2. Grand Rapids\n",
    "    3. Kalamazoo"
   ]
  },
  {
   "cell_type": "markdown",
   "metadata": {},
   "source": [
    "Code\n",
    "It is often useful to write bits of code in your markdown. Use backticks (next to the 1 key on your keyboard) to format as code. In the cell Below, try `x=2`. What happened?"
   ]
  },
  {
   "cell_type": "markdown",
   "metadata": {},
   "source": [
    "\n",
    "```\n",
    "s = 10\n",
    "print(s)\n",
    "\n",
    "```\n",
    "\n",
    "```python\n",
    "\n",
    "s= 10\n",
    "print(s)\n",
    "\n",
    "```\n",
    "\n",
    "```python\n",
    "\n",
    "s ='a string`\n",
    "print(s)\n",
    "\n",
    "```"
   ]
  },
  {
   "cell_type": "code",
   "execution_count": null,
   "metadata": {},
   "outputs": [],
   "source": []
  }
 ],
 "metadata": {
  "kernelspec": {
   "display_name": "Python 3",
   "language": "python",
   "name": "python3"
  },
  "language_info": {
   "codemirror_mode": {
    "name": "ipython",
    "version": 3
   },
   "file_extension": ".py",
   "mimetype": "text/x-python",
   "name": "python",
   "nbconvert_exporter": "python",
   "pygments_lexer": "ipython3",
   "version": "3.7.6"
  }
 },
 "nbformat": 4,
 "nbformat_minor": 4
}
