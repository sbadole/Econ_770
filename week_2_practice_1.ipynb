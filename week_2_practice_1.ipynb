{
 "cells": [
  {
   "cell_type": "markdown",
   "metadata": {},
   "source": [
    "### Assignment\n",
    "\n",
    "Run the following code block (`ctrl+enter`). What does the code do?"
   ]
  },
  {
   "cell_type": "code",
   "execution_count": 2,
   "metadata": {},
   "outputs": [
    {
     "name": "stdout",
     "output_type": "stream",
     "text": [
      "10\n"
     ]
    }
   ],
   "source": [
    "# Assign the value 10 to the variable x\n",
    "x = 10\n",
    "\n",
    "# Print the value of x to the screen\n",
    "print(x)"
   ]
  },
  {
   "cell_type": "markdown",
   "metadata": {},
   "source": [
    "**Key concept:** In the code cell above, you assigned the value of 10 to the variable named `x`. When we asked the Python interpreter to print `x`, it printed the value assigned to `x`.\n",
    "\n",
    "The `print()` function is a built-in python function. More on it later.\n",
    "\n",
    "When writing in a code block, we use the pound sign (#) to create a comment. The python interpretor ignores what follows the #. You can put a comment on the same line as some code. (So we use # to make comments in code blocks and we use # to make headers in markdown blocks.)\n",
    "\n",
    "Typically, comments are used to help explain to someone reading your code (often yourself at a later date) what is being done, or what a line is used for. Good coding practice means including comments when it is not obvious what you are doing from one line to the next, or to explain what a function is used for. Take note of how we use comments in these notebooks to help guide you through concepts!\n",
    "\n"
   ]
  },
  {
   "cell_type": "code",
   "execution_count": 5,
   "metadata": {},
   "outputs": [
    {
     "name": "stdout",
     "output_type": "stream",
     "text": [
      "40\n"
     ]
    }
   ],
   "source": [
    "# Variable names should typically be self-documenting\n",
    "my_age = 40   # I am old!\n",
    "print(my_age)"
   ]
  },
  {
   "cell_type": "markdown",
   "metadata": {},
   "source": [
    "Professor used the underscore `_` symbol in my variable name to make if more readable. Variable names must start with a letter or an underscore. Names can include letters, numbers, and underscores. Variable names are case sensitive. Before running the code below, what do you think the output will look like?"
   ]
  },
  {
   "cell_type": "code",
   "execution_count": 6,
   "metadata": {},
   "outputs": [
    {
     "name": "stdout",
     "output_type": "stream",
     "text": [
      "25\n",
      "35 50\n",
      "40 16 25\n"
     ]
    }
   ],
   "source": [
    "myAge = 25     # My auto insurance is much cheaper\n",
    "myage = 35     # I can run for president\n",
    "MYAGE = 50     # I can join AARP\n",
    "my_age_2 = 16 \n",
    "\n",
    "print(myAge)\n",
    "print(myage, MYAGE)\n",
    "print(my_age, my_age_2, myAge)"
   ]
  },
  {
   "cell_type": "markdown",
   "metadata": {},
   "source": [
    "We can print multiple variables from the same print statement. Notice that the `my_age` variable from the earlier code block is available to me in later code blocks. What happens when you run the following code?"
   ]
  },
  {
   "cell_type": "code",
   "execution_count": 10,
   "metadata": {},
   "outputs": [
    {
     "name": "stdout",
     "output_type": "stream",
     "text": [
      "5\n"
     ]
    }
   ],
   "source": [
    "two_my_age = 5  \n",
    "print(two_my_age)\n",
    "#2_my_age = 5      # We can not start varible name with digit.\n"
   ]
  },
  {
   "cell_type": "markdown",
   "metadata": {},
   "source": [
    "**Key concept:** When we try to run code with mistakes, the interpreter stops and displays an *error message*. The error message will typically give us a clue as to what went wrong.\n",
    "\n",
    "The \"syntax error\" message tells us that we broke one of python's rules. The caret (the ^ symbol) is pointing at where the problem occurred. In this case, we started a variable name with number."
   ]
  },
  {
   "cell_type": "code",
   "execution_count": 15,
   "metadata": {},
   "outputs": [
    {
     "name": "stdout",
     "output_type": "stream",
     "text": [
      "16 16\n",
      "17 16\n"
     ]
    }
   ],
   "source": [
    "# Assign the value in my_age_2 to another variable\n",
    "my_age_3 = my_age_2\n",
    "print(my_age_2, my_age_3)\n",
    "\n",
    "my_age_2 = 17\n",
    "print(my_age_2, my_age_3)"
   ]
  },
  {
   "cell_type": "markdown",
   "metadata": {},
   "source": [
    "### Calculation\n",
    "\n",
    "Computers are very good at calculating..."
   ]
  },
  {
   "cell_type": "code",
   "execution_count": 17,
   "metadata": {},
   "outputs": [
    {
     "name": "stdout",
     "output_type": "stream",
     "text": [
      "This is z, zz, and zzz.\n",
      "6 6 6\n",
      "What is z times zz?\n",
      "36\n"
     ]
    }
   ],
   "source": [
    "# Multiplication\n",
    "z = 2*3\n",
    "zz = 2 * 3                     \n",
    "zzz = 2     *     3     \n",
    "\n",
    "print('This is z, zz, and zzz.')\n",
    "print(z, zz, zzz)\n",
    "\n",
    "# Did the whitespace matter?\n",
    "\n",
    "z_mult = z * zz\n",
    "print('What is z times zz?')\n",
    "print(z_mult)"
   ]
  },
  {
   "cell_type": "markdown",
   "metadata": {},
   "source": [
    "Notice that we can use the `print()` function to directly print messages to the screen. We put the text to be printed inside of single quotation marks. When we do that, we are creating a string variable. More on that soon.\n",
    "\n",
    "Remember to consider the order of operations. Python will generally obey \"PEMDAS\" (or whatever you're used to calling it) but it is a good idea to use parentheses to separate operation from each other. Square brackets `[ ]` and curly brackets `{ }` can't be used for mathematical operations in Python; they will be used for something entirely different (that we will see later)."
   ]
  },
  {
   "cell_type": "code",
   "execution_count": 1,
   "metadata": {},
   "outputs": [
    {
     "name": "stdout",
     "output_type": "stream",
     "text": [
      "11\n",
      "11\n"
     ]
    },
    {
     "ename": "TypeError",
     "evalue": "unsupported operand type(s) for +: 'int' and 'list'",
     "output_type": "error",
     "traceback": [
      "\u001b[1;31m---------------------------------------------------------------------------\u001b[0m",
      "\u001b[1;31mTypeError\u001b[0m                                 Traceback (most recent call last)",
      "\u001b[1;32m<ipython-input-1-0f00cb67591e>\u001b[0m in \u001b[0;36m<module>\u001b[1;34m\u001b[0m\n\u001b[0;32m      9\u001b[0m \u001b[1;31m# Note that brackets in Python can't be used as a separator\u001b[0m\u001b[1;33m\u001b[0m\u001b[1;33m\u001b[0m\u001b[1;33m\u001b[0m\u001b[0m\n\u001b[0;32m     10\u001b[0m \u001b[1;31m# Don't worry about what this error means just yet.\u001b[0m\u001b[1;33m\u001b[0m\u001b[1;33m\u001b[0m\u001b[1;33m\u001b[0m\u001b[0m\n\u001b[1;32m---> 11\u001b[1;33m \u001b[0mx_3\u001b[0m \u001b[1;33m=\u001b[0m \u001b[1;36m3\u001b[0m \u001b[1;33m+\u001b[0m \u001b[1;33m[\u001b[0m\u001b[1;36m4\u001b[0m \u001b[1;33m*\u001b[0m \u001b[1;36m2\u001b[0m\u001b[1;33m]\u001b[0m\u001b[1;33m\u001b[0m\u001b[1;33m\u001b[0m\u001b[0m\n\u001b[0m\u001b[0;32m     12\u001b[0m \u001b[0mprint\u001b[0m\u001b[1;33m(\u001b[0m\u001b[0mx_3\u001b[0m\u001b[1;33m)\u001b[0m\u001b[1;33m\u001b[0m\u001b[1;33m\u001b[0m\u001b[0m\n",
      "\u001b[1;31mTypeError\u001b[0m: unsupported operand type(s) for +: 'int' and 'list'"
     ]
    }
   ],
   "source": [
    "# This obeys PEMDAS\n",
    "x_1 = 3 + 4 * 2\n",
    "print(x_1)\n",
    "\n",
    "# To make this more legible, we use parentheses\n",
    "x_2 = 3 + (4 * 2)\n",
    "print(x_2)\n",
    "\n",
    "# Note that brackets in Python can't be used as a separator\n",
    "# Don't worry about what this error means just yet.\n",
    "x_3 = 3 + [4 * 2]\n",
    "print(x_3)"
   ]
  },
  {
   "cell_type": "code",
   "execution_count": 20,
   "metadata": {},
   "outputs": [
    {
     "name": "stdout",
     "output_type": "stream",
     "text": [
      "5.0 4.0 1.5\n"
     ]
    }
   ],
   "source": [
    "# Division\n",
    "b = 10/2\n",
    "bb = 20/5\n",
    "bbb = 6/4\n",
    "print(b, bb, bbb)"
   ]
  },
  {
   "cell_type": "markdown",
   "metadata": {},
   "source": [
    "When we used division, the answers were displayed with decimal points, but when we multiplied they were not. Python is creating different types of variables.\n",
    "\n",
    "**Key concept:** Every object in Python has a type. There are several types (integer, float, string, list...) which we will learn about as we proceed. You can learn about a variable's type using the `type()` function. We have been dealing mostly with integers so far. Dividing two integers (10 and 2, for example) creates a float (5.0).\n",
    "\n",
    "You can learn about a variable's type using the `type()` function."
   ]
  },
  {
   "cell_type": "code",
   "execution_count": 24,
   "metadata": {},
   "outputs": [
    {
     "name": "stdout",
     "output_type": "stream",
     "text": [
      "5.0\n",
      "<class 'float'>\n",
      "6\n",
      "<class 'int'>\n"
     ]
    }
   ],
   "source": [
    "print(b)\n",
    "print(type(b))\n",
    "\n",
    "print(z)\n",
    "print(type(z))"
   ]
  },
  {
   "cell_type": "markdown",
   "metadata": {},
   "source": [
    "**Types are important:** Different types of objects can do different things. We will see this often in class.\n",
    "\n",
    "Lastly, here are a few more mathematical operations. You are not likely to use integer and modular division very often, but it is worth knowing they exist."
   ]
  },
  {
   "cell_type": "code",
   "execution_count": 25,
   "metadata": {},
   "outputs": [
    {
     "name": "stdout",
     "output_type": "stream",
     "text": [
      "8\n"
     ]
    }
   ],
   "source": [
    "# Exponents (note that it is not ^)\n",
    "a = 2**3\n",
    "print(a)"
   ]
  },
  {
   "cell_type": "code",
   "execution_count": 11,
   "metadata": {},
   "outputs": [
    {
     "data": {
      "text/plain": [
       "2"
      ]
     },
     "execution_count": 11,
     "metadata": {},
     "output_type": "execute_result"
    }
   ],
   "source": [
    "# Integer division (the quotient of dividing 13 by 5 is 2)\n",
    "13//5"
   ]
  },
  {
   "cell_type": "code",
   "execution_count": 12,
   "metadata": {},
   "outputs": [
    {
     "data": {
      "text/plain": [
       "3"
      ]
     },
     "execution_count": 12,
     "metadata": {},
     "output_type": "execute_result"
    }
   ],
   "source": [
    "# Modular division (the remainder of dividing 13 by 5 is 3)\n",
    "13%5"
   ]
  },
  {
   "cell_type": "markdown",
   "metadata": {},
   "source": [
    "**Practice: Calculation**\n",
    "\n",
    "Take a few minutes and try the following. Feel free to chat with those around if you get stuck. I am here, too.\n",
    "\n",
    "1. Suppose you lend $300 for one year at 5 percent interest. What is the repayment amount? Create the variable principal and set it to 300 and the variable i and set it equal to 0.05. Create a variable named payoff to hold the payoff amount. Print the value of the payoff."
   ]
  },
  {
   "cell_type": "code",
   "execution_count": 13,
   "metadata": {},
   "outputs": [
    {
     "name": "stdout",
     "output_type": "stream",
     "text": [
      "315.0\n"
     ]
    }
   ],
   "source": [
    "# I am using simple interest formula here.\n",
    "principal  = 300      # Principal value which I‘m going to invest\n",
    "i = 0.05              # Rate of Interest\n",
    "year = 1              # I invest $300 for one year.\n",
    "\n",
    "payoff = principal*(i+year)\n",
    "print(payoff)"
   ]
  },
  {
   "cell_type": "markdown",
   "metadata": {},
   "source": [
    "2. In a code cell, enter  \\\n",
    "    r = 5 \\\n",
    "    r = r+1 \\\n",
    "   and run the cell, What is the value of r?\n",
    "  "
   ]
  },
  {
   "cell_type": "code",
   "execution_count": 14,
   "metadata": {},
   "outputs": [
    {
     "name": "stdout",
     "output_type": "stream",
     "text": [
      "6\n"
     ]
    }
   ],
   "source": [
    "r = 5\n",
    "r = r + 1\n",
    "print(r)"
   ]
  },
  {
   "cell_type": "markdown",
   "metadata": {},
   "source": [
    "3. In the code cell below, enter \\\n",
    "        r = r + 1 \\\n",
    "        print(r) \\\n",
    "   and run the code. What happened?"
   ]
  },
  {
   "cell_type": "code",
   "execution_count": 44,
   "metadata": {},
   "outputs": [
    {
     "name": "stdout",
     "output_type": "stream",
     "text": [
      "36\n"
     ]
    }
   ],
   "source": [
    "r = r + 1\n",
    "print(r)"
   ]
  },
  {
   "cell_type": "markdown",
   "metadata": {},
   "source": [
    "Rerun the previous cell (`ctrl+enter`). What is the value of `r`? Rerun the cell again. And again. What is happening?"
   ]
  },
  {
   "cell_type": "markdown",
   "metadata": {},
   "source": [
    "4. In a code cell, set `m=2` and `m=3`. Write some code that swaps the velues of `m` and `n`."
   ]
  },
  {
   "cell_type": "code",
   "execution_count": 46,
   "metadata": {},
   "outputs": [
    {
     "name": "stdout",
     "output_type": "stream",
     "text": [
      "n= 3 m= 2\n",
      "n= 2 m= 3\n"
     ]
    }
   ],
   "source": [
    "# Initialize the variables\n",
    "m = 2\n",
    "n = 3\n",
    "print('n=', n, 'm=', m)\n",
    "\n",
    "# Now swap\n",
    "temp = m\n",
    "m = n\n",
    "n = temp\n",
    "print('n=', n, 'm=', m)\n",
    "\n",
    "# There are easier ways to swap variables. we will see this later."
   ]
  },
  {
   "cell_type": "markdown",
   "metadata": {},
   "source": [
    "**Help, or object introspection**\\\n",
    "The Jupyter Notebook has an easy way to get help about an object. In a code cell below, enter `print?` to learn about the print funtion."
   ]
  },
  {
   "cell_type": "code",
   "execution_count": 47,
   "metadata": {},
   "outputs": [],
   "source": [
    "print?"
   ]
  },
  {
   "cell_type": "markdown",
   "metadata": {},
   "source": [
    "Now try `r?`"
   ]
  },
  {
   "cell_type": "code",
   "execution_count": 48,
   "metadata": {},
   "outputs": [],
   "source": [
    "r?"
   ]
  },
  {
   "cell_type": "markdown",
   "metadata": {},
   "source": [
    "In general, we can use the `?` to learn about any object in our programs."
   ]
  },
  {
   "cell_type": "markdown",
   "metadata": {},
   "source": [
    "**Strings**\\\n",
    "Strings are collections of characters. Python is very good at manipulating strings, whereas languages like MATLAB and STATA are less so. (More on this in the future.)\n",
    "\n",
    "In Python, we put strings into quotation marks to assign them to variables. Either single or double quotes will do. These are all legitimate strings:\\\n",
    "    name = `Sachin Badole`\\\n",
    "    address = `110 S Bassett St, Apt-2, Madison, WI`\\\n",
    "    zip_code = `53703`\\\n",
    "Notice that `zip_code` looks like an integer. It is not! Let's try it out."
   ]
  },
  {
   "cell_type": "code",
   "execution_count": 52,
   "metadata": {},
   "outputs": [],
   "source": [
    "name = 'Sachin Badole'\n",
    "address = '110 S Bassett St, Apt-2, Madison, WI'\n",
    "zip_code = '53703'"
   ]
  },
  {
   "cell_type": "code",
   "execution_count": 53,
   "metadata": {},
   "outputs": [
    {
     "name": "stdout",
     "output_type": "stream",
     "text": [
      "53703\n"
     ]
    }
   ],
   "source": [
    "print(zip_code)"
   ]
  },
  {
   "cell_type": "code",
   "execution_count": 54,
   "metadata": {},
   "outputs": [
    {
     "ename": "TypeError",
     "evalue": "unsupported operand type(s) for /: 'str' and 'int'",
     "output_type": "error",
     "traceback": [
      "\u001b[1;31m---------------------------------------------------------------------------\u001b[0m",
      "\u001b[1;31mTypeError\u001b[0m                                 Traceback (most recent call last)",
      "\u001b[1;32m<ipython-input-54-8c734cfb2051>\u001b[0m in \u001b[0;36m<module>\u001b[1;34m\u001b[0m\n\u001b[0;32m      1\u001b[0m \u001b[1;31m# Why would I want to divide a zip code by 3? I have no idea!\u001b[0m\u001b[1;33m\u001b[0m\u001b[1;33m\u001b[0m\u001b[1;33m\u001b[0m\u001b[0m\n\u001b[1;32m----> 2\u001b[1;33m \u001b[0mz\u001b[0m \u001b[1;33m=\u001b[0m \u001b[0mzip_code\u001b[0m\u001b[1;33m/\u001b[0m\u001b[1;36m3\u001b[0m\u001b[1;33m\u001b[0m\u001b[1;33m\u001b[0m\u001b[0m\n\u001b[0m",
      "\u001b[1;31mTypeError\u001b[0m: unsupported operand type(s) for /: 'str' and 'int'"
     ]
    }
   ],
   "source": [
    "# Why would I want to divide a zip code by 3? I have no idea!\n",
    "z = zip_code/3"
   ]
  },
  {
   "cell_type": "code",
   "execution_count": 55,
   "metadata": {},
   "outputs": [
    {
     "name": "stdout",
     "output_type": "stream",
     "text": [
      "<class 'str'>\n",
      "53703\n"
     ]
    }
   ],
   "source": [
    "# What type of object is zip_code?\n",
    "\n",
    "print(type(zip_code))\n",
    "print(zip_code)"
   ]
  },
  {
   "cell_type": "markdown",
   "metadata": {},
   "source": [
    "We asked Python to divide a string by an integer. It does not know how to do that.\\\n",
    "\n",
    "Python does konw how to do some \"math\" with strings."
   ]
  },
  {
   "cell_type": "code",
   "execution_count": 56,
   "metadata": {},
   "outputs": [
    {
     "name": "stdout",
     "output_type": "stream",
     "text": [
      "BuckyBadger\n"
     ]
    }
   ],
   "source": [
    "first = 'Bucky'\n",
    "last = 'Badger'\n",
    "name = first + last\n",
    "print(name)"
   ]
  },
  {
   "cell_type": "markdown",
   "metadata": {},
   "source": [
    "What does `first*2` do? What about `2*first`?"
   ]
  },
  {
   "cell_type": "code",
   "execution_count": 58,
   "metadata": {},
   "outputs": [
    {
     "name": "stdout",
     "output_type": "stream",
     "text": [
      "BuckyBucky\n",
      "BuckyBucky\n"
     ]
    }
   ],
   "source": [
    "print(first*2)\n",
    "print(2*first)"
   ]
  },
  {
   "cell_type": "markdown",
   "metadata": {},
   "source": [
    "**Quotation marks**\n",
    "\n",
    "Single and double quotes do the same thing. The statements `first_name = 'Sachin'` and `first_name = \"Sachin\"` do the same thing.\n",
    "\n",
    "We need double quotation marks when the string contains a single quote. The statement `option = \"I do't like hot weather\"` works because the Python interpreter knows the string is contained in the double quotes, so it treats the single quote as a character."
   ]
  },
  {
   "cell_type": "code",
   "execution_count": 59,
   "metadata": {},
   "outputs": [
    {
     "name": "stdout",
     "output_type": "stream",
     "text": [
      "I don't like hot weather\n"
     ]
    }
   ],
   "source": [
    "opinion = \"I don't like hot weather\"\n",
    "print(opinion)"
   ]
  },
  {
   "cell_type": "code",
   "execution_count": 60,
   "metadata": {},
   "outputs": [
    {
     "ename": "SyntaxError",
     "evalue": "invalid syntax (<ipython-input-60-0a4dfffcf0f9>, line 1)",
     "output_type": "error",
     "traceback": [
      "\u001b[1;36m  File \u001b[1;32m\"<ipython-input-60-0a4dfffcf0f9>\"\u001b[1;36m, line \u001b[1;32m1\u001b[0m\n\u001b[1;33m    opinion_2 = 'I don't like hot weather'\u001b[0m\n\u001b[1;37m                       ^\u001b[0m\n\u001b[1;31mSyntaxError\u001b[0m\u001b[1;31m:\u001b[0m invalid syntax\n"
     ]
    }
   ],
   "source": [
    "opinion_2 = 'I don't like hot weather'\n",
    "print(opinion_2)"
   ]
  },
  {
   "cell_type": "markdown",
   "metadata": {},
   "source": [
    "To avoid issues with single quotes and apostrophes, we can \"escape\" the character (tell Python not to interpret it as a quote) using `\\` before it, as such:\\\n",
    "`I don\\'t like hot weather`"
   ]
  },
  {
   "cell_type": "code",
   "execution_count": 61,
   "metadata": {},
   "outputs": [
    {
     "name": "stdout",
     "output_type": "stream",
     "text": [
      "I don't like not weather\n"
     ]
    }
   ],
   "source": [
    "opinion_3 = 'I don\\'t like not weather'\n",
    "print(opinion_3)"
   ]
  },
  {
   "cell_type": "markdown",
   "metadata": {},
   "source": [
    "Lastly, we can use triple quotes (made up of either single or double quote characters) to create strings that break over several lines."
   ]
  },
  {
   "cell_type": "code",
   "execution_count": 62,
   "metadata": {},
   "outputs": [
    {
     "name": "stdout",
     "output_type": "stream",
     "text": [
      "\n",
      "Turning and turning in the widening gyre\n",
      "The falcon cannot hear the falconer;\n",
      "Things fall apart; the centre cannot hold;\n",
      "\n"
     ]
    }
   ],
   "source": [
    "second_coming = \"\"\"\n",
    "Turning and turning in the widening gyre\n",
    "The falcon cannot hear the falconer;\n",
    "Things fall apart; the centre cannot hold;\n",
    "\"\"\"\n",
    "print(second_coming)"
   ]
  },
  {
   "cell_type": "code",
   "execution_count": 63,
   "metadata": {},
   "outputs": [
    {
     "name": "stdout",
     "output_type": "stream",
     "text": [
      "\n",
      "Turning and turning in the widening gyre\n",
      "The falcon cannot hear the falconer;\n",
      "Things fall apart; the centre cannot hold;\n",
      "another part of the poem\n"
     ]
    }
   ],
   "source": [
    "print(second_coming + \"another part of the poem\")"
   ]
  },
  {
   "cell_type": "markdown",
   "metadata": {},
   "source": [
    "A second use of triple quotes is to create long comments. We have been using `#` to create comments in our code, but we can also triple quotes. You will often see a triple quote at the beginning of a program.\n",
    "\n",
    "    \"\"\"\n",
    "    This program adds two numbers together.\n",
    "    Sachin B. Badole\n",
    "    August 18, 2020\n",
    "    \"\"\"\n",
    "    \n",
    "The bit of code will not do anything because it is not assigned to a variable. It is only there for humans to read."
   ]
  },
  {
   "cell_type": "code",
   "execution_count": 65,
   "metadata": {},
   "outputs": [
    {
     "name": "stdout",
     "output_type": "stream",
     "text": [
      "110\n"
     ]
    }
   ],
   "source": [
    "\"\"\"\n",
    "This program adds two numbers together.\n",
    "Sachin B. Badole\n",
    "August 18, 2020\n",
    "\"\"\"\n",
    "\n",
    "a = 88\n",
    "b = 22\n",
    "\n",
    "print(a+b)"
   ]
  },
  {
   "cell_type": "markdown",
   "metadata": {},
   "source": [
    "Practice: Strings\n",
    "Take a few minutes and try the following. Feel free to chat with those around if you get stuck. The TA and I are here, too.\n",
    "\n",
    "1. In which of the following is x a string? Edit this markdown cell and type 'string' or 'not string' next to each example.\n",
    "\n",
    "        A. x = '10' (string)\n",
    "        B. x= 10 (int)\n",
    "        C. x= \"Hello World\" (string)\n",
    "        D. x = 'Lake Mendota' (string)\n",
    "        E. x = 3.5 (flot)\n",
    "        F. x = 'sbadole@wisc.edu' (string)\n",
    "\n",
    "2. Fix this expression:\n",
    "\n",
    "    whose_car = 'jane's'\n",
    "\n",
    "\n",
    "3. In our first and last name example, our output was `BuckyBadger`. Go back and fix your code so that `name` has a space between the first and last names. When you print `name`, it should look like: `Bucky Badger`."
   ]
  },
  {
   "cell_type": "code",
   "execution_count": 69,
   "metadata": {},
   "outputs": [
    {
     "name": "stdout",
     "output_type": "stream",
     "text": [
      "jane's\n",
      "jane's\n"
     ]
    }
   ],
   "source": [
    "whose_car = \"jane's\"\n",
    "whose_car1 = 'jane\\'s'\n",
    "print(whose_car)\n",
    "print(whose_car1)"
   ]
  },
  {
   "cell_type": "code",
   "execution_count": 71,
   "metadata": {},
   "outputs": [
    {
     "name": "stdout",
     "output_type": "stream",
     "text": [
      "Bucky Badger\n",
      "Bucky Badger\n"
     ]
    }
   ],
   "source": [
    "sp = ' '\n",
    "name = first + ' ' + last\n",
    "name1 = first + sp + last\n",
    "print(name)\n",
    "print(name1)"
   ]
  }
 ],
 "metadata": {
  "kernelspec": {
   "display_name": "Python 3",
   "language": "python",
   "name": "python3"
  },
  "language_info": {
   "codemirror_mode": {
    "name": "ipython",
    "version": 3
   },
   "file_extension": ".py",
   "mimetype": "text/x-python",
   "name": "python",
   "nbconvert_exporter": "python",
   "pygments_lexer": "ipython3",
   "version": "3.7.6"
  }
 },
 "nbformat": 4,
 "nbformat_minor": 4
}
